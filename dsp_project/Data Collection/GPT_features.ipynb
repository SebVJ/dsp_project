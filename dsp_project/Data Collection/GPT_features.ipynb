{
 "cells": [
  {
   "cell_type": "code",
   "execution_count": 56,
   "metadata": {},
   "outputs": [
    {
     "name": "stdout",
     "output_type": "stream",
     "text": [
      "   location  Number of bathrooms  Condition of the house  view  \\\n",
      "0         0                    0                       0     0   \n",
      "\n",
      "   amenities.Balcony  amenities.Garden  amenities.Parking  \\\n",
      "0                  0                 0                  0   \n",
      "\n",
      "   amenities.Swimming pool  amenities.Fireplace  amenities.Garage  \\\n",
      "0                        0                    0                 0   \n",
      "\n",
      "   amenities.Basement  amenities.Elevator  amenities.Air conditioning  \\\n",
      "0                   0                   0                           0   \n",
      "\n",
      "   amenities.Heating Type  \n",
      "0                       0  \n"
     ]
    }
   ],
   "source": [
    "from openai import OpenAI\n",
    "import pandas as pd\n",
    "import os\n",
    "import json\n",
    "\n",
    "\n",
    "df = pd.read_excel('/Users/andreasbrogaard/Documents/dsp_project/EDC w. description.xlsx')\n",
    "\n",
    "zeros = [0] * 14\n",
    "GPT_response = pd.DataFrame([zeros], columns= ['location', 'Number of bathrooms', 'Condition of the house', 'view', 'amenities.Balcony',  'amenities.Garden',  'amenities.Parking',  'amenities.Swimming pool',  'amenities.Fireplace',  'amenities.Garage',  'amenities.Basement',  'amenities.Elevator',  'amenities.Air conditioning',  'amenities.Heating Type'])\n",
    "\n",
    "print(GPT_response)"
   ]
  },
  {
   "cell_type": "code",
   "execution_count": 2,
   "metadata": {},
   "outputs": [],
   "source": [
    "system_message = (\"You are a parameter identifier you are to identify the parameters. Your output is to json and only json. do not nest any variables in the json, do not make an introduction or summary of your response\")\n",
    "\n",
    "parameters_schema = {\n",
    "    \"type\": \"object\",\n",
    "    \"properties\": {\n",
    "        \"location\": {\n",
    "            \"type\": \"string\",\n",
    "            \"description\": 'Divide locations into categories such as neighborhoods, districts, or proximity to amenities (downtown, suburban, rural).',\n",
    "        },\n",
    "        \"Number of bathrooms\": {\n",
    "            \"type\": \"string\",\n",
    "            \"enum\": ['1-1.5 bathrooms', '2-2.5 bathrooms', '3+ bathrooms'],\n",
    "            \"description\": 'The stated number of bathrooms. If no number of bathrooms is provided, return \"not_stated\".',\n",
    "        },\n",
    "        \"Condition of the house\": {\n",
    "            \"type\": \"string\",\n",
    "            \"enum\": [\"new construction\", \"renovated\", \"fixer-upper\"],\n",
    "            \"description\": 'Return the condition of the house as mentioned\".',\n",
    "        },\n",
    "        \"amenities\": {\n",
    "            \"type\": \"array\",\n",
    "            \"Balcony\": {\n",
    "                \"type\": \"Boolean\",\n",
    "            },\n",
    "            \"Garden\": {\n",
    "                \"type\": \"Boolean\",\n",
    "            },\n",
    "            \"Parking\": {\n",
    "                \"type\": \"Boolean\",\n",
    "            },\n",
    "            \"Swimming pool\": {\n",
    "                \"type\": \"Boolean\",\n",
    "            },\n",
    "            \"Fireplace\": {\n",
    "                \"type\": \"Boolean\",\n",
    "            },\n",
    "            \"Garage\": {\n",
    "                \"type\": \"Boolean\",\n",
    "            },\n",
    "            \"Basement\": {\n",
    "                \"type\": \"Boolean\",\n",
    "            },\n",
    "            \"Elevator\": {\n",
    "                \"type\": \"Boolean\",\n",
    "            },\n",
    "            \"Air conditioning\": {\n",
    "                \"type\": \"Boolean\",\n",
    "            },\n",
    "            \"Heating Type\": {\n",
    "                \"type\": \"string\",\n",
    "            },\n",
    "            \"description\": 'Return the amenities mentioned in the description.',\n",
    "        },\n",
    "        \"view\": {\n",
    "            \"type\": \"string\",\n",
    "            \"enum\": [\"city\", \"sea\", \"mountain\", \"no view\", \"not_stated\"],\n",
    "            \"description\": 'Return the view mentioned in the description.',\n",
    "        },\n",
    "    },\n",
    "    #\"required\": [\"location\", \"budget_level\", \"purpose\"],\n",
    "}\n",
    "\n",
    "\n"
   ]
  },
  {
   "cell_type": "code",
   "execution_count": 7,
   "metadata": {},
   "outputs": [
    {
     "name": "stdout",
     "output_type": "stream",
     "text": [
      "ChatCompletion(id='chatcmpl-9Hb8YcFhJ2KqYHtz6oGQgXbJjvXjH', choices=[Choice(finish_reason='stop', index=0, logprobs=None, message=ChatCompletionMessage(content='{\\n    \"location\": \"Ø-gadekvarteret\",\\n    \"Number of bathrooms\": \"not_stated\",\\n    \"Condition of the house\": \"well maintained\",\\n    \"amenities\": {\\n        \"Balcony\": false,\\n        \"Garden\": false,\\n        \"Parking\": false,\\n        \"Swimming pool\": false,\\n        \"Fireplace\": false,\\n        \"Garage\": false,\\n        \"Basement\": true,\\n        \"Elevator\": false,\\n        \"Air conditioning\": false,\\n        \"Heating Type\": \"not_stated\"\\n    },\\n    \"view\": \"no view\"\\n}', role='assistant', function_call=None, tool_calls=None))], created=1713981358, model='gpt-3.5-turbo-0125', object='chat.completion', system_fingerprint='fp_c2295e73ad', usage=CompletionUsage(completion_tokens=129, prompt_tokens=891, total_tokens=1020))\n"
     ]
    }
   ],
   "source": [
    "OPENAI_API_KEY = open('/Users/andreasbrogaard/Documents/dsp_project/.env','r').read()\n",
    "\n",
    "client = OpenAI(\n",
    "    api_key = OPENAI_API_KEY\n",
    ")\n",
    "for i in range(0, 10):\n",
    "    completion = client.chat.completions.create(\n",
    "        model=\"gpt-3.5-turbo\",\n",
    "        messages=[\n",
    "            {\"role\": \"system\", \"content\": system_message + \"use the following schema to create a response\" + str(parameters_schema)},\n",
    "            {\"role\": \"user\", \"content\": df['Description'].iloc[i]}\n",
    "        ],\n",
    "        temperature= 0.5\n",
    "    )\n",
    "    \n",
    "    response = completion.to_dict()['choices'][0]['message']['content']\n",
    "\n",
    "    json_response = json.loads(response)\n",
    "\n",
    "    GPT_response = GPT_response.append({completion.choices[0].message['content']}, ignore_index=True)\n"
   ]
  },
  {
   "cell_type": "code",
   "execution_count": 48,
   "metadata": {},
   "outputs": [
    {
     "name": "stdout",
     "output_type": "stream",
     "text": [
      "          location Number of bathrooms Condition of the house     view  \\\n",
      "0  Ø-gadekvarteret          not_stated        well maintained  no view   \n",
      "\n",
      "   amenities.Balcony  amenities.Garden  amenities.Parking  \\\n",
      "0              False             False              False   \n",
      "\n",
      "   amenities.Swimming pool  amenities.Fireplace  amenities.Garage  \\\n",
      "0                    False                False             False   \n",
      "\n",
      "   amenities.Basement  amenities.Elevator  amenities.Air conditioning  \\\n",
      "0                True               False                       False   \n",
      "\n",
      "  amenities.Heating Type  \n",
      "0             not_stated  \n"
     ]
    },
    {
     "ename": "AttributeError",
     "evalue": "'DataFrame' object has no attribute 'append'",
     "output_type": "error",
     "traceback": [
      "\u001b[0;31m---------------------------------------------------------------------------\u001b[0m",
      "\u001b[0;31mAttributeError\u001b[0m                            Traceback (most recent call last)",
      "\u001b[0;32m/var/folders/gg/df3tvb5d5915mzrljgy02_sc0000gn/T/ipykernel_8078/1349065493.py\u001b[0m in \u001b[0;36m?\u001b[0;34m()\u001b[0m\n\u001b[1;32m      8\u001b[0m \u001b[0;34m\u001b[0m\u001b[0m\n\u001b[1;32m      9\u001b[0m \u001b[0;34m\u001b[0m\u001b[0m\n\u001b[1;32m     10\u001b[0m \u001b[0mprint\u001b[0m\u001b[0;34m(\u001b[0m\u001b[0mdf_json_response\u001b[0m\u001b[0;34m)\u001b[0m\u001b[0;34m\u001b[0m\u001b[0;34m\u001b[0m\u001b[0m\n\u001b[1;32m     11\u001b[0m \u001b[0;34m\u001b[0m\u001b[0m\n\u001b[0;32m---> 12\u001b[0;31m \u001b[0mGPT_response\u001b[0m \u001b[0;34m=\u001b[0m \u001b[0mGPT_response\u001b[0m\u001b[0;34m.\u001b[0m\u001b[0mappend\u001b[0m\u001b[0;34m(\u001b[0m\u001b[0mdf_json_response\u001b[0m\u001b[0;34m,\u001b[0m \u001b[0mignore_index\u001b[0m\u001b[0;34m=\u001b[0m\u001b[0;32mTrue\u001b[0m\u001b[0;34m)\u001b[0m\u001b[0;34m\u001b[0m\u001b[0;34m\u001b[0m\u001b[0m\n\u001b[0m\u001b[1;32m     13\u001b[0m \u001b[0;34m\u001b[0m\u001b[0m\n",
      "\u001b[0;32m~/Documents/dsp_project/.venv/lib/python3.12/site-packages/pandas/core/generic.py\u001b[0m in \u001b[0;36m?\u001b[0;34m(self, name)\u001b[0m\n\u001b[1;32m   6292\u001b[0m             \u001b[0;32mand\u001b[0m \u001b[0mname\u001b[0m \u001b[0;32mnot\u001b[0m \u001b[0;32min\u001b[0m \u001b[0mself\u001b[0m\u001b[0;34m.\u001b[0m\u001b[0m_accessors\u001b[0m\u001b[0;34m\u001b[0m\u001b[0;34m\u001b[0m\u001b[0m\n\u001b[1;32m   6293\u001b[0m             \u001b[0;32mand\u001b[0m \u001b[0mself\u001b[0m\u001b[0;34m.\u001b[0m\u001b[0m_info_axis\u001b[0m\u001b[0;34m.\u001b[0m\u001b[0m_can_hold_identifiers_and_holds_name\u001b[0m\u001b[0;34m(\u001b[0m\u001b[0mname\u001b[0m\u001b[0;34m)\u001b[0m\u001b[0;34m\u001b[0m\u001b[0;34m\u001b[0m\u001b[0m\n\u001b[1;32m   6294\u001b[0m         \u001b[0;34m)\u001b[0m\u001b[0;34m:\u001b[0m\u001b[0;34m\u001b[0m\u001b[0;34m\u001b[0m\u001b[0m\n\u001b[1;32m   6295\u001b[0m             \u001b[0;32mreturn\u001b[0m \u001b[0mself\u001b[0m\u001b[0;34m[\u001b[0m\u001b[0mname\u001b[0m\u001b[0;34m]\u001b[0m\u001b[0;34m\u001b[0m\u001b[0;34m\u001b[0m\u001b[0m\n\u001b[0;32m-> 6296\u001b[0;31m         \u001b[0;32mreturn\u001b[0m \u001b[0mobject\u001b[0m\u001b[0;34m.\u001b[0m\u001b[0m__getattribute__\u001b[0m\u001b[0;34m(\u001b[0m\u001b[0mself\u001b[0m\u001b[0;34m,\u001b[0m \u001b[0mname\u001b[0m\u001b[0;34m)\u001b[0m\u001b[0;34m\u001b[0m\u001b[0;34m\u001b[0m\u001b[0m\n\u001b[0m",
      "\u001b[0;31mAttributeError\u001b[0m: 'DataFrame' object has no attribute 'append'"
     ]
    }
   ],
   "source": [
    "import json\n",
    "\n",
    "response = completion.to_dict()['choices'][0]['message']['content']\n",
    "\n",
    "json_response = json.loads(response)\n",
    "\n",
    "df_json_response = pd.json_normalize(json_response)\n",
    "\n",
    "\n",
    "print(df_json_response)\n",
    "\n",
    "GPT_response = GPT_response.append(df_json_response, ignore_index=True)\n",
    "\n"
   ]
  },
  {
   "cell_type": "code",
   "execution_count": 60,
   "metadata": {},
   "outputs": [
    {
     "ename": "AttributeError",
     "evalue": "'DataFrame' object has no attribute 'append'",
     "output_type": "error",
     "traceback": [
      "\u001b[0;31m---------------------------------------------------------------------------\u001b[0m",
      "\u001b[0;31mAttributeError\u001b[0m                            Traceback (most recent call last)",
      "\u001b[0;32m/var/folders/gg/df3tvb5d5915mzrljgy02_sc0000gn/T/ipykernel_8078/1459215954.py\u001b[0m in \u001b[0;36m?\u001b[0;34m()\u001b[0m\n\u001b[1;32m      1\u001b[0m \u001b[0mresponse\u001b[0m \u001b[0;34m=\u001b[0m \u001b[0mcompletion\u001b[0m\u001b[0;34m.\u001b[0m\u001b[0mto_dict\u001b[0m\u001b[0;34m(\u001b[0m\u001b[0;34m)\u001b[0m\u001b[0;34m[\u001b[0m\u001b[0;34m'choices'\u001b[0m\u001b[0;34m]\u001b[0m\u001b[0;34m[\u001b[0m\u001b[0;36m0\u001b[0m\u001b[0;34m]\u001b[0m\u001b[0;34m[\u001b[0m\u001b[0;34m'message'\u001b[0m\u001b[0;34m]\u001b[0m\u001b[0;34m[\u001b[0m\u001b[0;34m'content'\u001b[0m\u001b[0;34m]\u001b[0m\u001b[0;34m\u001b[0m\u001b[0;34m\u001b[0m\u001b[0m\n\u001b[1;32m      2\u001b[0m \u001b[0;34m\u001b[0m\u001b[0m\n\u001b[1;32m      3\u001b[0m \u001b[0mjson_response\u001b[0m \u001b[0;34m=\u001b[0m \u001b[0mjson\u001b[0m\u001b[0;34m.\u001b[0m\u001b[0mloads\u001b[0m\u001b[0;34m(\u001b[0m\u001b[0mresponse\u001b[0m\u001b[0;34m)\u001b[0m\u001b[0;34m\u001b[0m\u001b[0;34m\u001b[0m\u001b[0m\n\u001b[1;32m      4\u001b[0m \u001b[0;34m\u001b[0m\u001b[0m\n\u001b[0;32m----> 5\u001b[0;31m \u001b[0mGPT_response\u001b[0m \u001b[0;34m=\u001b[0m \u001b[0mGPT_response\u001b[0m\u001b[0;34m.\u001b[0m\u001b[0mappend\u001b[0m\u001b[0;34m(\u001b[0m\u001b[0mjson_response\u001b[0m\u001b[0;34m,\u001b[0m \u001b[0mignore_index\u001b[0m\u001b[0;34m=\u001b[0m\u001b[0;32mTrue\u001b[0m\u001b[0;34m)\u001b[0m\u001b[0;34m\u001b[0m\u001b[0;34m\u001b[0m\u001b[0m\n\u001b[0m\u001b[1;32m      6\u001b[0m \u001b[0;34m\u001b[0m\u001b[0m\n\u001b[1;32m      7\u001b[0m \u001b[0mprint\u001b[0m\u001b[0;34m(\u001b[0m\u001b[0mGPT_response\u001b[0m\u001b[0;34m)\u001b[0m\u001b[0;34m\u001b[0m\u001b[0;34m\u001b[0m\u001b[0m\n",
      "\u001b[0;32m~/Documents/dsp_project/.venv/lib/python3.12/site-packages/pandas/core/generic.py\u001b[0m in \u001b[0;36m?\u001b[0;34m(self, name)\u001b[0m\n\u001b[1;32m   6292\u001b[0m             \u001b[0;32mand\u001b[0m \u001b[0mname\u001b[0m \u001b[0;32mnot\u001b[0m \u001b[0;32min\u001b[0m \u001b[0mself\u001b[0m\u001b[0;34m.\u001b[0m\u001b[0m_accessors\u001b[0m\u001b[0;34m\u001b[0m\u001b[0;34m\u001b[0m\u001b[0m\n\u001b[1;32m   6293\u001b[0m             \u001b[0;32mand\u001b[0m \u001b[0mself\u001b[0m\u001b[0;34m.\u001b[0m\u001b[0m_info_axis\u001b[0m\u001b[0;34m.\u001b[0m\u001b[0m_can_hold_identifiers_and_holds_name\u001b[0m\u001b[0;34m(\u001b[0m\u001b[0mname\u001b[0m\u001b[0;34m)\u001b[0m\u001b[0;34m\u001b[0m\u001b[0;34m\u001b[0m\u001b[0m\n\u001b[1;32m   6294\u001b[0m         \u001b[0;34m)\u001b[0m\u001b[0;34m:\u001b[0m\u001b[0;34m\u001b[0m\u001b[0;34m\u001b[0m\u001b[0m\n\u001b[1;32m   6295\u001b[0m             \u001b[0;32mreturn\u001b[0m \u001b[0mself\u001b[0m\u001b[0;34m[\u001b[0m\u001b[0mname\u001b[0m\u001b[0;34m]\u001b[0m\u001b[0;34m\u001b[0m\u001b[0;34m\u001b[0m\u001b[0m\n\u001b[0;32m-> 6296\u001b[0;31m         \u001b[0;32mreturn\u001b[0m \u001b[0mobject\u001b[0m\u001b[0;34m.\u001b[0m\u001b[0m__getattribute__\u001b[0m\u001b[0;34m(\u001b[0m\u001b[0mself\u001b[0m\u001b[0;34m,\u001b[0m \u001b[0mname\u001b[0m\u001b[0;34m)\u001b[0m\u001b[0;34m\u001b[0m\u001b[0;34m\u001b[0m\u001b[0m\n\u001b[0m",
      "\u001b[0;31mAttributeError\u001b[0m: 'DataFrame' object has no attribute 'append'"
     ]
    }
   ],
   "source": [
    "response = completion.to_dict()['choices'][0]['message']['content']\n",
    "\n",
    "json_response = json.loads(response)\n",
    "\n",
    "GPT_response = GPT_response.append(json_response, ignore_index=True)\n",
    "\n",
    "print(GPT_response)\n"
   ]
  },
  {
   "cell_type": "code",
   "execution_count": null,
   "metadata": {},
   "outputs": [],
   "source": [
    "GPT_response.to_pickle('House_data_w_GPT.pkl')\n"
   ]
  }
 ],
 "metadata": {
  "kernelspec": {
   "display_name": "Python 3",
   "language": "python",
   "name": "python3"
  },
  "language_info": {
   "codemirror_mode": {
    "name": "ipython",
    "version": 3
   },
   "file_extension": ".py",
   "mimetype": "text/x-python",
   "name": "python",
   "nbconvert_exporter": "python",
   "pygments_lexer": "ipython3",
   "version": "3.12.2"
  }
 },
 "nbformat": 4,
 "nbformat_minor": 2
}
